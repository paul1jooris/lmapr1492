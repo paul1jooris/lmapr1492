{
 "cells": [
  {
   "cell_type": "markdown",
   "id": "c21dc020",
   "metadata": {},
   "source": [
    "# Analyse de KTlO2"
   ]
  },
  {
   "cell_type": "code",
   "execution_count": 2,
   "id": "56c128af",
   "metadata": {},
   "outputs": [],
   "source": [
    "import numpy as np\n",
    "from pymatgen.core.operations import SymmOp\n",
    "from mp_api.client import MPRester"
   ]
  },
  {
   "cell_type": "code",
   "execution_count": 3,
   "id": "8e41b492",
   "metadata": {},
   "outputs": [],
   "source": [
    "import numpy as np\n",
    "from mp_api.client import MPRester\n",
    "from pymatgen.core.operations import SymmOp\n",
    "from pymatgen.symmetry.analyzer import SpacegroupAnalyzer\n",
    "from pymatgen.electronic_structure.plotter import BSPlotter\n",
    "from pymatgen.phonon.plotter import PhononBSPlotter\n",
    "from jupyter_jsmol.pymatgen import quick_view\n",
    "from lmapr1492 import plot_brillouin_zone, get_plot_bs, get_plot_dos, get_plot_bs_and_dos, get_branch_wavevectors\n",
    "from plotly.subplots import make_subplots\n",
    "import plotly.graph_objects as go"
   ]
  },
  {
   "cell_type": "code",
   "execution_count": 4,
   "id": "68479a66",
   "metadata": {},
   "outputs": [],
   "source": [
    "mp_key = \"txVH20lqfEIM4Yxb2k5ptbih3BpgcIsN\"\n",
    "mp_id = \"mp-8175\""
   ]
  },
  {
   "cell_type": "code",
   "execution_count": 5,
   "id": "f312daca",
   "metadata": {
    "scrolled": true
   },
   "outputs": [
    {
     "data": {
      "application/vnd.jupyter.widget-view+json": {
       "model_id": "235af1018ea848eb80a1f77ad30e4540",
       "version_major": 2,
       "version_minor": 0
      },
      "text/plain": [
       "Retrieving MaterialsDoc documents:   0%|          | 0/1 [00:00<?, ?it/s]"
      ]
     },
     "metadata": {},
     "output_type": "display_data"
    },
    {
     "data": {
      "application/vnd.jupyter.widget-view+json": {
       "model_id": "7d95cacd62c6411b93c78587ef1eb3ed",
       "version_major": 2,
       "version_minor": 0
      },
      "text/plain": [
       "Retrieving ElectronicStructureDoc documents:   0%|          | 0/1 [00:00<?, ?it/s]"
      ]
     },
     "metadata": {},
     "output_type": "display_data"
    },
    {
     "data": {
      "application/vnd.jupyter.widget-view+json": {
       "model_id": "d0d1c5374e7b454d90eda71b43e3c5de",
       "version_major": 2,
       "version_minor": 0
      },
      "text/plain": [
       "Retrieving ElectronicStructureDoc documents:   0%|          | 0/1 [00:00<?, ?it/s]"
      ]
     },
     "metadata": {},
     "output_type": "display_data"
    },
    {
     "data": {
      "application/vnd.jupyter.widget-view+json": {
       "model_id": "039574cc592d4fe6bb13fe9c5a1b5227",
       "version_major": 2,
       "version_minor": 0
      },
      "text/plain": [
       "Retrieving PhononBSDOSDoc documents:   0%|          | 0/1 [00:00<?, ?it/s]"
      ]
     },
     "metadata": {},
     "output_type": "display_data"
    },
    {
     "data": {
      "application/vnd.jupyter.widget-view+json": {
       "model_id": "d045b4c6488148338ce9d5e96d36b8fa",
       "version_major": 2,
       "version_minor": 0
      },
      "text/plain": [
       "Retrieving PhononBSDOSDoc documents:   0%|          | 0/1 [00:00<?, ?it/s]"
      ]
     },
     "metadata": {},
     "output_type": "display_data"
    }
   ],
   "source": [
    "with MPRester(mp_key) as m:\n",
    "    prim_struc = m.get_structure_by_material_id(mp_id)\n",
    "    el_bs = m.get_bandstructure_by_material_id(mp_id)\n",
    "    el_dos = m.get_dos_by_material_id(mp_id)\n",
    "    ph_bs = m.get_phonon_bandstructure_by_material_id(mp_id)\n",
    "    ph_dos = m.get_phonon_dos_by_material_id(mp_id)\n",
    "    inst = SpacegroupAnalyzer(prim_struc)\n",
    "conv_struc = SpacegroupAnalyzer(prim_struc).get_conventional_standard_structure()\n",
    "symmops = SpacegroupAnalyzer(conv_struc).get_space_group_operations()"
   ]
  },
  {
   "cell_type": "markdown",
   "id": "8f2169bb",
   "metadata": {},
   "source": [
    "# Visualisation de la structure"
   ]
  },
  {
   "cell_type": "code",
   "execution_count": 6,
   "id": "d91e59d6-b967-4826-a2de-55966c0d65dc",
   "metadata": {},
   "outputs": [],
   "source": [
    "i_atom = 7\n",
    "i_symmop = 2"
   ]
  },
  {
   "cell_type": "code",
   "execution_count": 10,
   "id": "0067bf00",
   "metadata": {
    "scrolled": false
   },
   "outputs": [
    {
     "data": {
      "application/vnd.jupyter.widget-view+json": {
       "model_id": "f9fecd90c51d4a14b6ea5ec827fe98d0",
       "version_major": 2,
       "version_minor": 0
      },
      "text/plain": [
       "JsmolView(layout=Layout(align_self='stretch', height='400px'))"
      ]
     },
     "metadata": {},
     "output_type": "display_data"
    }
   ],
   "source": [
    "view = quick_view(prim_struc, \"packed\", conventional = True)\n",
    "\n",
    "display(view)\n",
    "\n",
    "view.script('select potassium; color white')\n",
    "view.script('select thallium; color pink')\n",
    "view.script('select oxygen; color palegreen')\n"
   ]
  },
  {
   "cell_type": "markdown",
   "id": "6891ac29",
   "metadata": {},
   "source": [
    "## Maille crystalline"
   ]
  },
  {
   "cell_type": "code",
   "execution_count": 13,
   "id": "064b4342",
   "metadata": {},
   "outputs": [
    {
     "name": "stdout",
     "output_type": "stream",
     "text": [
      "Full Formula (K1 Tl1 O2)\n",
      "Reduced Formula: KTlO2\n",
      "abc   :   6.419731   6.419731   6.419731\n",
      "angles:  31.206844  31.206844  31.206844\n",
      "pbc   :       True       True       True\n",
      "Sites (4)\n",
      "  #  SP           a         b         c\n",
      "---  ----  --------  --------  --------\n",
      "  0  K     0.5       0.5       0.5\n",
      "  1  Tl    0         0         0\n",
      "  2  O     0.732084  0.732084  0.732084\n",
      "  3  O     0.267916  0.267916  0.267916\n"
     ]
    }
   ],
   "source": [
    "maille = inst.get_primitive_standard_structure()\n",
    "\n",
    "print(maille)"
   ]
  },
  {
   "cell_type": "markdown",
   "id": "991ddd1f",
   "metadata": {},
   "source": [
    "On voit que les données ci dessus correspondent bien au dessin que l'on voit plus haut, c'est-à-dire que les coordonées réduites sont: \\\n",
    " Le Thallium (en rose) se trouve aux coordonnées \\begin{pmatrix}0 & 0 & 0\\end{pmatrix} Le potassium (en blanc) se trouve aux coordonnées \\begin{pmatrix}0.5 & 0.5 & 0.5\\end{pmatrix}  Les deux atomes d'oxygen (en vert) se trouvent respactivement aux coordonées \\begin{pmatrix}0.732084 & 0.732084 & 0.732084\\end{pmatrix} et \\begin{pmatrix}0.267916 & 0.267916 & 0.267916\\end{pmatrix} \n",
    " \n",
    "Les trois vecteurs de base $\\begin{pmatrix} a & b & c\\end{pmatrix} $sont de longueur $\\begin{pmatrix} 6.419731  & 6.419731 &  6.419731\\end{pmatrix} \\mathring{A}$"
   ]
  },
  {
   "cell_type": "markdown",
   "id": "fe4d3692",
   "metadata": {},
   "source": [
    "# Vecteurs de bases des réseaux direct et réciproque"
   ]
  },
  {
   "cell_type": "code",
   "execution_count": 82,
   "id": "3bb4c1a7",
   "metadata": {},
   "outputs": [
    {
     "name": "stdout",
     "output_type": "stream",
     "text": [
      "Les vecteurs de base du réseau direct :\n",
      "\n",
      "[[ 3.31534541 -0.0077329   5.49739644]\n",
      " [ 1.52349981  2.94457495  5.49739644]\n",
      " [-0.01274142 -0.0077329   6.41971368]]\n"
     ]
    }
   ],
   "source": [
    "# reseau direct\n",
    "\n",
    "lattice = prim_struc.lattice\n",
    "print(\"Les vecteurs de base du réseau direct :\\n\")\n",
    "print(lattice.matrix)\n",
    "\n"
   ]
  },
  {
   "cell_type": "markdown",
   "id": "e71664de",
   "metadata": {},
   "source": [
    "Les vecteurs de base du réseau direct sont  : <div align=\"center\">$\\begin{align*}\\vec{a}&=a\\cdot \\begin{pmatrix}3.31534541 & -0.0077329  & 5.49739644\\end{pmatrix}\\\\\\vec{b}&=b\\cdot \\begin{pmatrix}1.52349981  & 2.94457495 & 5.49739644\\end{pmatrix}\\\\\\vec{c}&=c\\cdot \\begin{pmatrix}-0.01274142 & -0.0077329  & 6.41971368 \\end{pmatrix}\\end{align*}$</div>\n"
   ]
  },
  {
   "cell_type": "code",
   "execution_count": 83,
   "id": "86b95c2a",
   "metadata": {},
   "outputs": [
    {
     "name": "stdout",
     "output_type": "stream",
     "text": [
      "Les vecteurs de base du réseau réciproque : \n",
      "\n",
      "[[ 1.88863811e+00 -9.81956342e-01  2.56562240e-03]\n",
      " [ 7.10980402e-04  2.12865988e+00  2.56549960e-03]\n",
      " [-1.61790720e+00 -9.81957181e-01  9.74339014e-01]]\n"
     ]
    }
   ],
   "source": [
    "#reseau réciproque\n",
    "\n",
    "reciprocal_lattice = lattice.reciprocal_lattice\n",
    "print(\"Les vecteurs de base du réseau réciproque : \\n\")\n",
    "print(reciprocal_lattice.matrix)"
   ]
  },
  {
   "cell_type": "markdown",
   "id": "8ca19cbe",
   "metadata": {},
   "source": [
    "Dans notre cours nous avons vu que les vecteurs de base du réseau réciproque pouvaient être obtenus grâce aux formules suivantes : <div align=\"center\">$\\begin{equation*}\\vec{a}^* = \\dfrac{2\\pi}{\\Omega}(\\vec{b}\\times\\vec{c}) \\end{equation*}$</div>\n",
    "\n",
    "<div align=\"center\">$\\begin{equation*}\\vec{b}^* = \\dfrac{2\\pi}{\\Omega}(\\vec{c}\\times\\vec{a})\\end{equation*}$</div>\n",
    "\n",
    "<div align=\"center\">$\\begin{equation*}\\vec{c}^* = \\dfrac{2\\pi}{\\Omega}(\\vec{a}\\times\\vec{b})\\end{equation*}$</div>\n",
    "\n",
    "Les résultats obtenus vérifient bien cette relation : <div align=\"center\">$\\begin{equation*}\\vec{a}^* = \\begin{pmatrix} 1.88863811e+00 & -9.81956342e-01 & 2.56562240e-03 \\end{pmatrix} \\end{equation*}$</div>\n",
    "\n",
    "<div align=\"center\">$\\begin{equation*}\\vec{b}^* = \\begin{pmatrix}7.10980402e-04 & 2.12865988e+00 & 2.56549960e-03\\end{pmatrix}\\end{equation*}$</div>\n",
    "\n",
    "<div align=\"center\">$\\begin{equation*}\\vec{c}^* = \\begin{pmatrix}-1.61790720e+00 &-9.81957181e-01 & 9.74339014e-01\\end{pmatrix}\\end{equation*}$</div>"
   ]
  },
  {
   "cell_type": "markdown",
   "id": "95a2e700",
   "metadata": {},
   "source": [
    "# Type de maille et système crystallin"
   ]
  },
  {
   "cell_type": "code",
   "execution_count": 84,
   "id": "a1a29122",
   "metadata": {},
   "outputs": [
    {
     "name": "stdout",
     "output_type": "stream",
     "text": [
      "Type de maille : rhombohedral\n",
      "Système crystallin : trigonal\n"
     ]
    }
   ],
   "source": [
    "lattice_type = inst.get_lattice_type()\n",
    "\n",
    "crystal_system = inst.get_crystal_system()\n",
    "\n",
    "print(\"Type de maille :\", lattice_type)\n",
    "print(\"Système crystallin :\", crystal_system)"
   ]
  },
  {
   "cell_type": "markdown",
   "id": "32e661be",
   "metadata": {},
   "source": [
    "On voit que le système est trigonal, cela est cohérent étant donné que nous avons $a=b=c= 6.419731\\mathring{A} $ et $\\alpha=\\beta=\\gamma=31.206844° \\neq 90°$\n",
    "\n",
    "On peut alors calculer le volume de la maille par:<div align=\"center\">$\\begin{align*}\\Omega &= \\vec{a}\\cdot(\\vec{b}\\times\\vec{c})\\\\&=a^3\\cdot\\sqrt{1-3\\cos^2\\alpha+2\\cos^3\\alpha}\\\\&=63\\mathring{A}^3\\end{align*}$</div>\n",
    "\n",
    "Mais également le volume de la maille dans le réseau réciproque grâce à la relation théorique qui lie les deux : : <div align=\"center\">$\\begin{align*}\\Omega^* &= \\vec{a}^*\\cdot(\\vec{b}^*\\times\\vec{c}^*)\\\\& = \\dfrac{(2\\pi)^3}{\\Omega} \\\\&=3.93730\\mathring{A}^3\\end{align*}$</div>"
   ]
  },
  {
   "cell_type": "markdown",
   "id": "c11681b0",
   "metadata": {},
   "source": [
    "# Groupe Ponctuel"
   ]
  },
  {
   "cell_type": "code",
   "execution_count": 16,
   "id": "f9302a79",
   "metadata": {},
   "outputs": [
    {
     "name": "stdout",
     "output_type": "stream",
     "text": [
      "Groupe ponctuel: -3m\n"
     ]
    }
   ],
   "source": [
    "point_group = inst.get_point_group_symbol()\n",
    "\n",
    "print (\"Groupe ponctuel:\", point_group)"
   ]
  },
  {
   "cell_type": "markdown",
   "id": "bc7332fd",
   "metadata": {},
   "source": [
    "Le groupe spatial du $KTlO_2$ est $R\\overline3m$ ce qui signifie que l'on aura un axe de roto-inversion d'ordre 3 le long de [111] ainsi que des plans miroirs le long des directions $[1\\overline10]$, $[01\\overline1]$ et $[\\overline101]$"
   ]
  },
  {
   "cell_type": "code",
   "execution_count": null,
   "id": "a0c98969",
   "metadata": {},
   "outputs": [],
   "source": []
  }
 ],
 "metadata": {
  "kernelspec": {
   "display_name": "Python 3 (ipykernel)",
   "language": "python",
   "name": "python3"
  },
  "language_info": {
   "codemirror_mode": {
    "name": "ipython",
    "version": 3
   },
   "file_extension": ".py",
   "mimetype": "text/x-python",
   "name": "python",
   "nbconvert_exporter": "python",
   "pygments_lexer": "ipython3",
   "version": "3.9.13"
  }
 },
 "nbformat": 4,
 "nbformat_minor": 5
}
