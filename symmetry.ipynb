{
 "cells": [
  {
   "cell_type": "markdown",
   "id": "9504ba5a",
   "metadata": {},
   "source": [
    "# Symétries de KTlO2 "
   ]
  },
  {
   "cell_type": "code",
   "execution_count": 1,
   "id": "8e41b492",
   "metadata": {},
   "outputs": [],
   "source": [
    "import numpy as np\n",
    "from mp_api.client import MPRester\n",
    "from pymatgen.core.operations import SymmOp\n",
    "from pymatgen.symmetry.analyzer import SpacegroupAnalyzer\n",
    "from pymatgen.electronic_structure.plotter import BSPlotter\n",
    "from pymatgen.phonon.plotter import PhononBSPlotter\n",
    "from jupyter_jsmol.pymatgen import quick_view\n",
    "from lmapr1492 import plot_brillouin_zone, get_plot_bs, get_plot_dos, get_plot_bs_and_dos, get_branch_wavevectors\n",
    "from plotly.subplots import make_subplots\n",
    "import plotly.graph_objects as go"
   ]
  },
  {
   "cell_type": "code",
   "execution_count": 2,
   "id": "68479a66",
   "metadata": {},
   "outputs": [],
   "source": [
    "mp_key = \"txVH20lqfEIM4Yxb2k5ptbih3BpgcIsN\"\n",
    "mp_id = \"mp-8175\""
   ]
  },
  {
   "cell_type": "code",
   "execution_count": 3,
   "id": "f312daca",
   "metadata": {},
   "outputs": [
    {
     "data": {
      "application/vnd.jupyter.widget-view+json": {
       "model_id": "c18ef7bae85b45bd97dcf0847091912a",
       "version_major": 2,
       "version_minor": 0
      },
      "text/plain": [
       "Retrieving MaterialsDoc documents:   0%|          | 0/1 [00:00<?, ?it/s]"
      ]
     },
     "metadata": {},
     "output_type": "display_data"
    },
    {
     "data": {
      "application/vnd.jupyter.widget-view+json": {
       "model_id": "b18d316b29274bb791ac8b4a599680e8",
       "version_major": 2,
       "version_minor": 0
      },
      "text/plain": [
       "Retrieving ElectronicStructureDoc documents:   0%|          | 0/1 [00:00<?, ?it/s]"
      ]
     },
     "metadata": {},
     "output_type": "display_data"
    },
    {
     "data": {
      "application/vnd.jupyter.widget-view+json": {
       "model_id": "ebc272fe94794adf8dd81d4cc7f804d7",
       "version_major": 2,
       "version_minor": 0
      },
      "text/plain": [
       "Retrieving ElectronicStructureDoc documents:   0%|          | 0/1 [00:00<?, ?it/s]"
      ]
     },
     "metadata": {},
     "output_type": "display_data"
    },
    {
     "data": {
      "application/vnd.jupyter.widget-view+json": {
       "model_id": "e5e94fd0415a46d4b0f4398e68ccfe14",
       "version_major": 2,
       "version_minor": 0
      },
      "text/plain": [
       "Retrieving PhononBSDOSDoc documents:   0%|          | 0/1 [00:00<?, ?it/s]"
      ]
     },
     "metadata": {},
     "output_type": "display_data"
    },
    {
     "data": {
      "application/vnd.jupyter.widget-view+json": {
       "model_id": "01b4da150f584d068eafa3b7653c9576",
       "version_major": 2,
       "version_minor": 0
      },
      "text/plain": [
       "Retrieving PhononBSDOSDoc documents:   0%|          | 0/1 [00:00<?, ?it/s]"
      ]
     },
     "metadata": {},
     "output_type": "display_data"
    }
   ],
   "source": [
    "with MPRester(mp_key) as m:\n",
    "    prim_struc = m.get_structure_by_material_id(mp_id)\n",
    "    el_bs = m.get_bandstructure_by_material_id(mp_id)\n",
    "    el_dos = m.get_dos_by_material_id(mp_id)\n",
    "    ph_bs = m.get_phonon_bandstructure_by_material_id(mp_id)\n",
    "    ph_dos = m.get_phonon_dos_by_material_id(mp_id)\n",
    "conv_struc = SpacegroupAnalyzer(prim_struc).get_conventional_standard_structure()\n",
    "symmops = SpacegroupAnalyzer(conv_struc).get_space_group_operations()"
   ]
  },
  {
   "cell_type": "markdown",
   "id": "8f2169bb",
   "metadata": {},
   "source": [
    "## Inversion sur O"
   ]
  },
  {
   "cell_type": "code",
   "execution_count": 105,
   "id": "d91e59d6-b967-4826-a2de-55966c0d65dc",
   "metadata": {},
   "outputs": [],
   "source": [
    "i_atom = 7\n",
    "i_symmop = 2"
   ]
  },
  {
   "cell_type": "code",
   "execution_count": 106,
   "id": "7c673995",
   "metadata": {
    "scrolled": true
   },
   "outputs": [
    {
     "data": {
      "application/vnd.jupyter.widget-view+json": {
       "model_id": "54fa2ff654574768a442571d24d3348e",
       "version_major": 2,
       "version_minor": 0
      },
      "text/plain": [
       "JsmolView(layout=Layout(align_self='stretch', height='400px'))"
      ]
     },
     "metadata": {},
     "output_type": "display_data"
    }
   ],
   "source": [
    "view = quick_view(prim_struc, \"packed\", conventional = True)\n",
    "display(view)\n",
    "\n",
    "view.script('select potassium; color white')\n",
    "view.script('select thallium; color pink')\n",
    "view.script('select oxygen; color palegreen')\n",
    "view.script('draw SYMOP ' + str(i_symmop) + ' {atomno = ' + str(i_atom) + '}')"
   ]
  },
  {
   "cell_type": "code",
   "execution_count": 107,
   "id": "3bb4c1a7",
   "metadata": {},
   "outputs": [
    {
     "name": "stdout",
     "output_type": "stream",
     "text": [
      "Rot:\n",
      "[[-1.  0.  0.]\n",
      " [ 0. -1.  0.]\n",
      " [ 0.  0. -1.]]\n",
      "tau\n",
      "[0. 0. 0.]\n"
     ]
    }
   ],
   "source": [
    "symmop = symmops[i_symmop - 1]\n",
    "print(symmop)"
   ]
  },
  {
   "cell_type": "code",
   "execution_count": 108,
   "id": "86b95c2a",
   "metadata": {},
   "outputs": [
    {
     "name": "stdout",
     "output_type": "stream",
     "text": [
      "Position initale de l'atome d'oxygène : [0.         0.         0.73208426]\n"
     ]
    }
   ],
   "source": [
    "pos_init = conv_struc.sites[i_atom -1].frac_coords\n",
    "print(\"Position initale de l'atome d'oxygène :\",pos_init)"
   ]
  },
  {
   "cell_type": "code",
   "execution_count": 109,
   "id": "de99dd5b",
   "metadata": {},
   "outputs": [
    {
     "name": "stdout",
     "output_type": "stream",
     "text": [
      "Position finale de l'atome d'oxygène après transformation : [ 0.          0.         -0.73208426]\n"
     ]
    }
   ],
   "source": [
    "pos_final = symmop.operate(pos_init)\n",
    "print(\"Position finale de l'atome d'oxygène après transformation :\", pos_final)"
   ]
  },
  {
   "cell_type": "code",
   "execution_count": 110,
   "id": "3e0e96e2",
   "metadata": {},
   "outputs": [
    {
     "name": "stdout",
     "output_type": "stream",
     "text": [
      "Indice de l'atome le plus proche de la position finale: 10 \n",
      " Ses coordonées exactes : [0.         0.         0.26791574]\n"
     ]
    }
   ],
   "source": [
    "for k_atom, site in enumerate(conv_struc.sites):\n",
    "    if np.linalg.norm((site.frac_coords - pos_final)%1) < 1e-6:\n",
    "        j_atom = k_atom + 1\n",
    "print(\"Indice de l'atome le plus proche de la position finale:\",j_atom,\"\\n\",\"Ses coordonées exactes :\" ,conv_struc.sites[j_atom -1].frac_coords)"
   ]
  },
  {
   "cell_type": "markdown",
   "id": "2d442164",
   "metadata": {},
   "source": [
    "La première opération de symétrie est la suivante : (x,y,z) $\\rightarrow$ (-x,-y,-z) \n",
    "\n",
    "Elle est définie par une matrice de rotation (Rot) $\\begin{pmatrix}-1&0&0\\\\0&-1&0\\\\0&0&-1\\end{pmatrix}$ et une translation (tau) nulle.\n",
    "\n",
    "C'est donc bien une inversion. Une fois appliquée à l'atome d'oxygène qui se trouve initialement à la position $\\begin{pmatrix} 0. & 0. & 0.73208426 \\end{pmatrix}$ , on arrive alors à la position $\\begin{pmatrix}0. & 0. & -0.73208426\\end{pmatrix}$"
   ]
  },
  {
   "cell_type": "markdown",
   "id": "923ac7a6",
   "metadata": {},
   "source": [
    "## Rotation de 90° autour de z sur Tl"
   ]
  },
  {
   "cell_type": "code",
   "execution_count": 111,
   "id": "7eb2f7ec",
   "metadata": {},
   "outputs": [],
   "source": [
    "i_atom = 5\n",
    "i_symmop = 8"
   ]
  },
  {
   "cell_type": "code",
   "execution_count": 112,
   "id": "aba0336a",
   "metadata": {},
   "outputs": [
    {
     "data": {
      "application/vnd.jupyter.widget-view+json": {
       "model_id": "a0aa59ae85174236825b01c263d312da",
       "version_major": 2,
       "version_minor": 0
      },
      "text/plain": [
       "JsmolView(layout=Layout(align_self='stretch', height='400px'))"
      ]
     },
     "metadata": {},
     "output_type": "display_data"
    }
   ],
   "source": [
    "view = quick_view(prim_struc, \"packed\", conventional = True)\n",
    "display(view)\n",
    "\n",
    "view.script('select potassium; color white')\n",
    "view.script('select thallium; color pink')\n",
    "view.script('select oxygen; color palegreen')\n",
    "view.script('draw SYMOP ' + str(i_symmop) + ' {atomno = ' + str(i_atom) + '}')"
   ]
  },
  {
   "cell_type": "code",
   "execution_count": 113,
   "id": "6c6e69a5",
   "metadata": {},
   "outputs": [
    {
     "name": "stdout",
     "output_type": "stream",
     "text": [
      "Rot:\n",
      "[[ 0. -1.  0.]\n",
      " [-1.  0.  0.]\n",
      " [ 0.  0.  1.]]\n",
      "tau\n",
      "[0. 0. 0.]\n"
     ]
    }
   ],
   "source": [
    "symmop = symmops[i_symmop - 1]\n",
    "print(symmop)"
   ]
  },
  {
   "cell_type": "code",
   "execution_count": 114,
   "id": "fe01bc60",
   "metadata": {},
   "outputs": [
    {
     "name": "stdout",
     "output_type": "stream",
     "text": [
      "Position initale de l'atome de thallium :  [0.66666667 0.33333333 0.33333333]\n"
     ]
    }
   ],
   "source": [
    "pos_init = conv_struc.sites[i_atom -1].frac_coords\n",
    "print(\"Position initale de l'atome de thallium : \",pos_init)"
   ]
  },
  {
   "cell_type": "code",
   "execution_count": 115,
   "id": "3628c180",
   "metadata": {},
   "outputs": [
    {
     "name": "stdout",
     "output_type": "stream",
     "text": [
      "Position finale de l'atome de thallium après transformation : [-0.33333333 -0.66666667  0.33333333]\n"
     ]
    }
   ],
   "source": [
    "pos_final = symmop.operate(pos_init)\n",
    "print(\"Position finale de l'atome de thallium après transformation :\", pos_final)"
   ]
  },
  {
   "cell_type": "code",
   "execution_count": 116,
   "id": "2b0bed6d",
   "metadata": {},
   "outputs": [
    {
     "name": "stdout",
     "output_type": "stream",
     "text": [
      "Indice de l'atome le plus proche de la position finale: 5 \n",
      " Ses coordonées exactes : [0.66666667 0.33333333 0.33333333]\n"
     ]
    }
   ],
   "source": [
    "for k_atom, site in enumerate(conv_struc.sites):\n",
    "    if np.linalg.norm((site.frac_coords - pos_final)%1) < 1e-6:\n",
    "        j_atom = k_atom + 1\n",
    "print(\"Indice de l'atome le plus proche de la position finale:\",j_atom,\"\\n\",\"Ses coordonées exactes :\" ,conv_struc.sites[j_atom -1].frac_coords)"
   ]
  },
  {
   "cell_type": "markdown",
   "id": "cd9158f6",
   "metadata": {},
   "source": [
    "La seconde opération de symétrie est la suivante : (x,y,z) $\\rightarrow$ (-y,-x,z) \n",
    "\n",
    "Elle est définie par une matrice de rotation (Rot) $\\begin{pmatrix}0&-1&0\\\\-1&0&0\\\\0&0&1\\end{pmatrix}$ et une translation (tau) nulle.\n",
    "\n",
    "C'est donc bien une rotation de 90° autour de l'axe z, c'est-à-dire une $C_4$ selon l'axe $[001]$. Une fois appliquée à l'atome de  thallium qui se trouve initialement à la position $\\begin{pmatrix}0.66666667 & 0.33333333 & 0.33333333\\end{pmatrix}$, on arrive alors à la position $\\begin{pmatrix} -0.33333333 &-0.66666667 & 0.33333333\\end{pmatrix}$"
   ]
  },
  {
   "cell_type": "markdown",
   "id": "3c585727",
   "metadata": {},
   "source": [
    "## Réflexion avec Plan miroir sur K"
   ]
  },
  {
   "cell_type": "code",
   "execution_count": 123,
   "id": "7723665e",
   "metadata": {},
   "outputs": [],
   "source": [
    "i_atom = 1\n",
    "i_symmop = 7"
   ]
  },
  {
   "cell_type": "code",
   "execution_count": 128,
   "id": "2d2cddbb",
   "metadata": {},
   "outputs": [
    {
     "data": {
      "application/vnd.jupyter.widget-view+json": {
       "model_id": "4cde1fd3e9cf4c2783604dbe6e24f442",
       "version_major": 2,
       "version_minor": 0
      },
      "text/plain": [
       "JsmolView(layout=Layout(align_self='stretch', height='400px'))"
      ]
     },
     "metadata": {},
     "output_type": "display_data"
    }
   ],
   "source": [
    "view = quick_view(prim_struc, \"packed\", conventional = True)\n",
    "display(view)\n",
    "\n",
    "view.script('select potassium; color white')\n",
    "view.script('select thallium; color pink')\n",
    "view.script('select oxygen; color palegreen')\n",
    "view.script('draw SYMOP ' + str(i_symmop) + ' {atomno = ' + str(i_atom) + '}')"
   ]
  },
  {
   "cell_type": "code",
   "execution_count": 129,
   "id": "61a5ef36",
   "metadata": {},
   "outputs": [
    {
     "name": "stdout",
     "output_type": "stream",
     "text": [
      "Rot:\n",
      "[[ 0.  1.  0.]\n",
      " [ 1.  0.  0.]\n",
      " [ 0.  0. -1.]]\n",
      "tau\n",
      "[0. 0. 0.]\n"
     ]
    }
   ],
   "source": [
    "symmop = symmops[i_symmop - 1]\n",
    "print(symmop)"
   ]
  },
  {
   "cell_type": "code",
   "execution_count": 130,
   "id": "d946be69",
   "metadata": {},
   "outputs": [
    {
     "name": "stdout",
     "output_type": "stream",
     "text": [
      "Position initale de l'atome de potassium' :  [0.66666667 0.33333333 0.83333333]\n"
     ]
    }
   ],
   "source": [
    "pos_init = conv_struc.sites[i_atom -1].frac_coords\n",
    "print(\"Position initale de l'atome de potassium' : \",pos_init)"
   ]
  },
  {
   "cell_type": "code",
   "execution_count": 131,
   "id": "deb66772",
   "metadata": {},
   "outputs": [
    {
     "name": "stdout",
     "output_type": "stream",
     "text": [
      "Position finale de l'atome de potassium après transformation : [ 0.33333333  0.66666667 -0.83333333]\n"
     ]
    }
   ],
   "source": [
    "pos_final = symmop.operate(pos_init)\n",
    "print(\"Position finale de l'atome de potassium après transformation :\", pos_final)"
   ]
  },
  {
   "cell_type": "code",
   "execution_count": 132,
   "id": "3a5bf565",
   "metadata": {},
   "outputs": [
    {
     "name": "stdout",
     "output_type": "stream",
     "text": [
      "Indice de l'atome le plus proche de la position finale: 5 \n",
      " Ses coordonées exactes : [0.66666667 0.33333333 0.33333333]\n"
     ]
    }
   ],
   "source": [
    "for k_atom, site in enumerate(conv_struc.sites):\n",
    "    if np.linalg.norm((site.frac_coords - pos_final)%1) < 1e-6:\n",
    "        j_atom = k_atom + 1\n",
    "print(\"Indice de l'atome le plus proche de la position finale:\",j_atom,\"\\n\",\"Ses coordonées exactes :\" ,conv_struc.sites[j_atom -1].frac_coords)"
   ]
  },
  {
   "cell_type": "markdown",
   "id": "a38ce607",
   "metadata": {},
   "source": [
    "La troisème opération de symétrie est la suivante : (x,y,z) $\\rightarrow$ (y,x,-z) \n",
    "\n",
    "Elle est définie par une matrice de rotation (Rot) $\\begin{pmatrix}0&1&0\\\\1&0&0\\\\0&0&-1\\end{pmatrix}$ et une translation (tau) nulle.\n",
    "\n",
    "Les coodornées en z changent de signe ce qui montre qu'il y a une réflexion selon le plan miroir xy (plan perpendiculaire à la direction $[001]$ ), combinée avec une permutation de x et y. Une fois appliquée à l'atome de potassium qui se trouve initialement à la position $\\begin{pmatrix}0.66666667 & 0.33333333 & 0.83333333\\end{pmatrix}$, on arrive alors à la position $\\begin{pmatrix}0.33333333 & 0.66666667 & -0.83333333 \\end{pmatrix}$"
   ]
  },
  {
   "cell_type": "code",
   "execution_count": 133,
   "id": "2361f94a",
   "metadata": {},
   "outputs": [
    {
     "name": "stdout",
     "output_type": "stream",
     "text": [
      "Index 1: Rot:\n",
      "[[1. 0. 0.]\n",
      " [0. 1. 0.]\n",
      " [0. 0. 1.]]\n",
      "tau\n",
      "[0. 0. 0.]\n",
      "Index 2: Rot:\n",
      "[[-1.  0.  0.]\n",
      " [ 0. -1.  0.]\n",
      " [ 0.  0. -1.]]\n",
      "tau\n",
      "[0. 0. 0.]\n",
      "Index 3: Rot:\n",
      "[[ 0. -1.  0.]\n",
      " [ 1. -1.  0.]\n",
      " [ 0.  0.  1.]]\n",
      "tau\n",
      "[0. 0. 0.]\n",
      "Index 4: Rot:\n",
      "[[ 0.  1.  0.]\n",
      " [-1.  1.  0.]\n",
      " [ 0.  0. -1.]]\n",
      "tau\n",
      "[0. 0. 0.]\n",
      "Index 5: Rot:\n",
      "[[-1.  1.  0.]\n",
      " [-1.  0.  0.]\n",
      " [ 0.  0.  1.]]\n",
      "tau\n",
      "[0. 0. 0.]\n",
      "Index 6: Rot:\n",
      "[[ 1. -1.  0.]\n",
      " [ 1.  0.  0.]\n",
      " [ 0.  0. -1.]]\n",
      "tau\n",
      "[0. 0. 0.]\n",
      "Index 7: Rot:\n",
      "[[ 0.  1.  0.]\n",
      " [ 1.  0.  0.]\n",
      " [ 0.  0. -1.]]\n",
      "tau\n",
      "[0. 0. 0.]\n",
      "Index 8: Rot:\n",
      "[[ 0. -1.  0.]\n",
      " [-1.  0.  0.]\n",
      " [ 0.  0.  1.]]\n",
      "tau\n",
      "[0. 0. 0.]\n",
      "Index 9: Rot:\n",
      "[[ 1. -1.  0.]\n",
      " [ 0. -1.  0.]\n",
      " [ 0.  0. -1.]]\n",
      "tau\n",
      "[0. 0. 0.]\n",
      "Index 10: Rot:\n",
      "[[-1.  1.  0.]\n",
      " [ 0.  1.  0.]\n",
      " [ 0.  0.  1.]]\n",
      "tau\n",
      "[0. 0. 0.]\n",
      "Index 11: Rot:\n",
      "[[-1.  0.  0.]\n",
      " [-1.  1.  0.]\n",
      " [ 0.  0. -1.]]\n",
      "tau\n",
      "[0. 0. 0.]\n",
      "Index 12: Rot:\n",
      "[[ 1.  0.  0.]\n",
      " [ 1. -1.  0.]\n",
      " [ 0.  0.  1.]]\n",
      "tau\n",
      "[0. 0. 0.]\n",
      "Index 13: Rot:\n",
      "[[1. 0. 0.]\n",
      " [0. 1. 0.]\n",
      " [0. 0. 1.]]\n",
      "tau\n",
      "[0.66666667 0.33333333 0.33333333]\n",
      "Index 14: Rot:\n",
      "[[-1.  0.  0.]\n",
      " [ 0. -1.  0.]\n",
      " [ 0.  0. -1.]]\n",
      "tau\n",
      "[0.66666667 0.33333333 0.33333333]\n",
      "Index 15: Rot:\n",
      "[[ 0. -1.  0.]\n",
      " [ 1. -1.  0.]\n",
      " [ 0.  0.  1.]]\n",
      "tau\n",
      "[0.66666667 0.33333333 0.33333333]\n",
      "Index 16: Rot:\n",
      "[[ 0.  1.  0.]\n",
      " [-1.  1.  0.]\n",
      " [ 0.  0. -1.]]\n",
      "tau\n",
      "[0.66666667 0.33333333 0.33333333]\n",
      "Index 17: Rot:\n",
      "[[-1.  1.  0.]\n",
      " [-1.  0.  0.]\n",
      " [ 0.  0.  1.]]\n",
      "tau\n",
      "[0.66666667 0.33333333 0.33333333]\n",
      "Index 18: Rot:\n",
      "[[ 1. -1.  0.]\n",
      " [ 1.  0.  0.]\n",
      " [ 0.  0. -1.]]\n",
      "tau\n",
      "[0.66666667 0.33333333 0.33333333]\n",
      "Index 19: Rot:\n",
      "[[ 0.  1.  0.]\n",
      " [ 1.  0.  0.]\n",
      " [ 0.  0. -1.]]\n",
      "tau\n",
      "[0.66666667 0.33333333 0.33333333]\n",
      "Index 20: Rot:\n",
      "[[ 0. -1.  0.]\n",
      " [-1.  0.  0.]\n",
      " [ 0.  0.  1.]]\n",
      "tau\n",
      "[0.66666667 0.33333333 0.33333333]\n",
      "Index 21: Rot:\n",
      "[[ 1. -1.  0.]\n",
      " [ 0. -1.  0.]\n",
      " [ 0.  0. -1.]]\n",
      "tau\n",
      "[0.66666667 0.33333333 0.33333333]\n",
      "Index 22: Rot:\n",
      "[[-1.  1.  0.]\n",
      " [ 0.  1.  0.]\n",
      " [ 0.  0.  1.]]\n",
      "tau\n",
      "[0.66666667 0.33333333 0.33333333]\n",
      "Index 23: Rot:\n",
      "[[-1.  0.  0.]\n",
      " [-1.  1.  0.]\n",
      " [ 0.  0. -1.]]\n",
      "tau\n",
      "[0.66666667 0.33333333 0.33333333]\n",
      "Index 24: Rot:\n",
      "[[ 1.  0.  0.]\n",
      " [ 1. -1.  0.]\n",
      " [ 0.  0.  1.]]\n",
      "tau\n",
      "[0.66666667 0.33333333 0.33333333]\n",
      "Index 25: Rot:\n",
      "[[1. 0. 0.]\n",
      " [0. 1. 0.]\n",
      " [0. 0. 1.]]\n",
      "tau\n",
      "[0.33333333 0.66666667 0.66666667]\n",
      "Index 26: Rot:\n",
      "[[-1.  0.  0.]\n",
      " [ 0. -1.  0.]\n",
      " [ 0.  0. -1.]]\n",
      "tau\n",
      "[0.33333333 0.66666667 0.66666667]\n",
      "Index 27: Rot:\n",
      "[[ 0. -1.  0.]\n",
      " [ 1. -1.  0.]\n",
      " [ 0.  0.  1.]]\n",
      "tau\n",
      "[0.33333333 0.66666667 0.66666667]\n",
      "Index 28: Rot:\n",
      "[[ 0.  1.  0.]\n",
      " [-1.  1.  0.]\n",
      " [ 0.  0. -1.]]\n",
      "tau\n",
      "[0.33333333 0.66666667 0.66666667]\n",
      "Index 29: Rot:\n",
      "[[-1.  1.  0.]\n",
      " [-1.  0.  0.]\n",
      " [ 0.  0.  1.]]\n",
      "tau\n",
      "[0.33333333 0.66666667 0.66666667]\n",
      "Index 30: Rot:\n",
      "[[ 1. -1.  0.]\n",
      " [ 1.  0.  0.]\n",
      " [ 0.  0. -1.]]\n",
      "tau\n",
      "[0.33333333 0.66666667 0.66666667]\n",
      "Index 31: Rot:\n",
      "[[ 0.  1.  0.]\n",
      " [ 1.  0.  0.]\n",
      " [ 0.  0. -1.]]\n",
      "tau\n",
      "[0.33333333 0.66666667 0.66666667]\n",
      "Index 32: Rot:\n",
      "[[ 0. -1.  0.]\n",
      " [-1.  0.  0.]\n",
      " [ 0.  0.  1.]]\n",
      "tau\n",
      "[0.33333333 0.66666667 0.66666667]\n",
      "Index 33: Rot:\n",
      "[[ 1. -1.  0.]\n",
      " [ 0. -1.  0.]\n",
      " [ 0.  0. -1.]]\n",
      "tau\n",
      "[0.33333333 0.66666667 0.66666667]\n",
      "Index 34: Rot:\n",
      "[[-1.  1.  0.]\n",
      " [ 0.  1.  0.]\n",
      " [ 0.  0.  1.]]\n",
      "tau\n",
      "[0.33333333 0.66666667 0.66666667]\n",
      "Index 35: Rot:\n",
      "[[-1.  0.  0.]\n",
      " [-1.  1.  0.]\n",
      " [ 0.  0. -1.]]\n",
      "tau\n",
      "[0.33333333 0.66666667 0.66666667]\n",
      "Index 36: Rot:\n",
      "[[ 1.  0.  0.]\n",
      " [ 1. -1.  0.]\n",
      " [ 0.  0.  1.]]\n",
      "tau\n",
      "[0.33333333 0.66666667 0.66666667]\n"
     ]
    }
   ],
   "source": [
    "#aide pour trouver les index des symétries\n",
    "\n",
    "for i, symmop in enumerate(symmops):\n",
    "    print(f\"Index {i+1}: {symmop}\")"
   ]
  },
  {
   "cell_type": "code",
   "execution_count": null,
   "id": "fb9f9dc0",
   "metadata": {},
   "outputs": [],
   "source": []
  }
 ],
 "metadata": {
  "kernelspec": {
   "display_name": "Python 3 (ipykernel)",
   "language": "python",
   "name": "python3"
  },
  "language_info": {
   "codemirror_mode": {
    "name": "ipython",
    "version": 3
   },
   "file_extension": ".py",
   "mimetype": "text/x-python",
   "name": "python",
   "nbconvert_exporter": "python",
   "pygments_lexer": "ipython3",
   "version": "3.9.13"
  }
 },
 "nbformat": 4,
 "nbformat_minor": 5
}
